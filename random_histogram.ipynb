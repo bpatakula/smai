{
 "cells": [
  {
   "cell_type": "code",
   "execution_count": 2,
   "id": "c71ec8e8",
   "metadata": {},
   "outputs": [
    {
     "data": {
      "image/png": "[encoded data removed]",
      "text/plain": [
       "<Figure size 432x288 with 1 Axes>"
      ]
     },
     "metadata": {
      "needs_background": "light"
     },
     "output_type": "display_data"
    }
   ],
   "source": [
    "import random\n",
    "import matplotlib.pyplot as plt\n",
    "import numpy as np\n",
    "\n",
    "def RandomSum(size):\n",
    "    x = 0\n",
    "    for j in range(size):\n",
    "        x = x + random.random()\n",
    "    return x\n",
    "\n",
    "def histogram_bins_range(data, desired_bin_size):\n",
    "    min_val = np.min(data)\n",
    "    max_val = np.max(data)\n",
    "    n_bins = range(int(min_val), int(max_val) + 1 , desired_bin_size)\n",
    "    return n_bins\n",
    "\n",
    "sum_rand = [0] * 50000\n",
    "for k in range(50000):\n",
    "    sum_rand[k] = RandomSum(500)\n",
    "\n",
    "plt.hist(sum_rand, edgecolor=\"red\", bins=histogram_bins_range(sum_rand,1), density=True)\n",
    "plt.show()"
   ]
  },
  {
   "cell_type": "code",
   "execution_count": null,
   "id": "e6248b5b",
   "metadata": {},
   "outputs": [],
   "source": []
  }
 ],
 "metadata": {
  "kernelspec": {
   "display_name": "Python 3 (ipykernel)",
   "language": "python",
   "name": "python3"
  },
  "language_info": {
   "codemirror_mode": {
    "name": "ipython",
    "version": 3
   },
   "file_extension": ".py",
   "mimetype": "text/x-python",
   "name": "python",
   "nbconvert_exporter": "python",
   "pygments_lexer": "ipython3",
   "version": "3.9.12"
  }
 },
 "nbformat": 4,
 "nbformat_minor": 5
}
